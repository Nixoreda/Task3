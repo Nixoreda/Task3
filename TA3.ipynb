{
 "cells": [
  {
   "cell_type": "code",
   "execution_count": null,
   "id": "85594df5",
   "metadata": {},
   "outputs": [],
   "source": [
    "class Car:\n",
    "    def __init__(scar):\n",
    "        scar.version = input(\"Enter youc car version : \")\n",
    "        scar.__lock = int(input(\"Create your lock key : \"))\n",
    "        scar.speed = int(input(\"Enter Your first speed : \"))\n",
    "        \n",
    "    def lockcar(scar, Lock):\n",
    "        Lock = int(input(\"Please enter your lock key : \"))\n",
    "        \n",
    "        if Lock == scar.__lock:\n",
    "            print(\"Your car Opened\")\n",
    "        else:\n",
    "            print(\"wrong lock key\")\n",
    "        \n",
    "    def checkoil(scar, versions):\n",
    "        if checkoil == scar.version == \"BMW\":\n",
    "            print(\"Your car using oil\")\n",
    "        else:\n",
    "            print(\"check your car version.\")\n",
    "            \n",
    "    def filltank(scar, version):\n",
    "        if tank < 40:\n",
    "            print(\"You must fill your car\")\n",
    "        else:\n",
    "            print(\"You Can Drive Now\")\n",
    "                \n",
    "                \n",
    "    def tescar(scar, version):\n",
    "        if tescar == scar.version == \"Tesla\":\n",
    "            Print(\"Your car using electric\")\n",
    "        else:\n",
    "            print(\"check your car version\")\n",
    "                \n",
    "                  \n",
    "    def cahrgecar(scar, version):\n",
    "        if cahrgecar < 30:\n",
    "            print(\"You must charge your car\")\n",
    "        else:\n",
    "            print(\"You Can Drive Now\")\n",
    "            \n",
    "            \n",
    "    def changespeed(scar, version):\n",
    "        if chspeed > 500:\n",
    "            print(\"Your maximum speed is 400\")\n",
    "                chspeed = int(input(\"Enter Your New Speed : \"))\n",
    "        else:\n",
    "            print(\"Your speed has been changed\")\n",
    "            \n",
    "    "
   ]
  },
  {
   "cell_type": "code",
   "execution_count": null,
   "id": "d52423ce",
   "metadata": {},
   "outputs": [],
   "source": [
    "mycar = Car()"
   ]
  }
 ],
 "metadata": {
  "kernelspec": {
   "display_name": "Python 3",
   "language": "python",
   "name": "python3"
  },
  "language_info": {
   "codemirror_mode": {
    "name": "ipython",
    "version": 3
   },
   "file_extension": ".py",
   "mimetype": "text/x-python",
   "name": "python",
   "nbconvert_exporter": "python",
   "pygments_lexer": "ipython3",
   "version": "3.8.8"
  }
 },
 "nbformat": 4,
 "nbformat_minor": 5
}
